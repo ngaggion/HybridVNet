{
 "cells": [
  {
   "cell_type": "code",
   "execution_count": 1,
   "metadata": {},
   "outputs": [
    {
     "name": "stderr",
     "output_type": "stream",
     "text": [
      "/media/ngaggion/SSD1TB/miniconda3/envs/pytorch_geometric/lib/python3.9/site-packages/pandas/core/arrays/masked.py:60: UserWarning: Pandas requires version '1.3.6' or newer of 'bottleneck' (version '1.3.5' currently installed).\n",
      "  from pandas.core import (\n"
     ]
    },
    {
     "name": "stdout",
     "output_type": "stream",
     "text": [
      "Seg as Input (Volumetric) - Chamfer: 2.80 ± 2.40 - Hausdorff: 6.09 ± 2.09 - N: 1914\n",
      "Chamfer: Ttest_indResult(statistic=-24.65642635429458, pvalue=1.0558975223100351e-124) - N: 1914, Seg as Input (Volumetric)\n",
      "Hausdorff: Ttest_indResult(statistic=-12.449577051253502, pvalue=6.612765695954279e-35) - N: 1914, Seg as Input (Volumetric)\n",
      "\n",
      "Seg as input (Surface) - Chamfer: 4.13 ± 1.16 - Hausdorff: 5.17 ± 1.02 - N: 1914\n",
      "Chamfer: Ttest_indResult(statistic=-6.031209796893767, pvalue=1.781680228751295e-09) - N: 1914, Seg as input (Surface)\n",
      "Hausdorff: Ttest_indResult(statistic=-35.170633004600816, pvalue=4.778884693844409e-235) - N: 1914, Seg as input (Surface)\n",
      "\n"
     ]
    }
   ],
   "source": [
    "import pandas as pd\n",
    "from scipy import stats\n",
    "\n",
    "df = pd.read_csv('results_volumetric.csv')\n",
    "df['Model'] = \"Seg as Input (Volumetric)\"\n",
    "df2 = pd.read_csv('results_surface.csv')\n",
    "df2['Model'] = \"Seg as input (Surface)\"\n",
    "\n",
    "df = pd.concat([df, df2])\n",
    "\n",
    "mean_chamfer_baseline = 4.39\n",
    "std_chamfer_baseline = 1.48\n",
    "mean_hd_baseline = 6.89\n",
    "std_hd_baseline = 1.88\n",
    "\n",
    "for model in df['Model'].unique():\n",
    "    subset = df[df['Model'] == model]\n",
    "    mean_chamfer = subset['CD'].mean()\n",
    "    std_chamfer = subset['CD'].std()\n",
    "    \n",
    "    mean_hd = subset['HD'].mean()\n",
    "    std_hd = subset['HD'].std()\n",
    "    \n",
    "    print(f\"{model} - Chamfer: {mean_chamfer:.2f} ± {std_chamfer:.2f} - Hausdorff: {mean_hd:.2f} ± {std_hd:.2f} - N: {len(subset)}\")\n",
    "    \n",
    "    # t-test    \n",
    "    ttest_chamfer = stats.ttest_ind_from_stats(mean_chamfer, std_chamfer, len(subset), mean_chamfer_baseline, std_chamfer_baseline, len(subset))\n",
    "    ttest_hd = stats.ttest_ind_from_stats(mean_hd, std_hd, len(subset), mean_hd_baseline, std_hd_baseline, len(subset))\n",
    "    \n",
    "    if ttest_chamfer.pvalue < 0.05: # mention if significant\n",
    "        print(f\"Chamfer: {ttest_chamfer} - N: {len(subset)}, {model}\")\n",
    "    if ttest_hd.pvalue < 0.05: # mention if significant\n",
    "        print(f\"Hausdorff: {ttest_hd} - N: {len(subset)}, {model}\")\n",
    "        \n",
    "    print(\"\")"
   ]
  }
 ],
 "metadata": {
  "kernelspec": {
   "display_name": "pytorch_geometric",
   "language": "python",
   "name": "python3"
  },
  "language_info": {
   "codemirror_mode": {
    "name": "ipython",
    "version": 3
   },
   "file_extension": ".py",
   "mimetype": "text/x-python",
   "name": "python",
   "nbconvert_exporter": "python",
   "pygments_lexer": "ipython3",
   "version": "3.9.18"
  }
 },
 "nbformat": 4,
 "nbformat_minor": 2
}
